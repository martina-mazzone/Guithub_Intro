{
 "cells": [
  {
   "cell_type": "code",
   "execution_count": 8,
   "metadata": {},
   "outputs": [
    {
     "name": "stdout",
     "output_type": "stream",
     "text": [
      "Qet  n tig\n"
     ]
    }
   ],
   "source": [
    "strval = 'Questa è una stringa'\n",
    "print(strval[::2])"
   ]
  },
  {
   "cell_type": "code",
   "execution_count": 16,
   "metadata": {},
   "outputs": [
    {
     "name": "stdout",
     "output_type": "stream",
     "text": [
      "True\n",
      "a è maggiore di b\n"
     ]
    }
   ],
   "source": [
    "a = 4\n",
    "b = 4\n",
    "\n",
    "condition = a == b\n",
    "print( condition )\n",
    "if condition:\n",
    "    print(\"a è maggiore di b\")"
   ]
  },
  {
   "cell_type": "code",
   "execution_count": 18,
   "metadata": {},
   "outputs": [
    {
     "name": "stdout",
     "output_type": "stream",
     "text": [
      "Qualcosa\n"
     ]
    }
   ],
   "source": [
    "def stampa_qualcosa():\n",
    "    print('Qualcosa')\n",
    "\n",
    "stampa_qualcosa()"
   ]
  },
  {
   "cell_type": "code",
   "execution_count": 23,
   "metadata": {},
   "outputs": [
    {
     "data": {
      "text/plain": [
       "9"
      ]
     },
     "execution_count": 23,
     "metadata": {},
     "output_type": "execute_result"
    }
   ],
   "source": [
    "def somma(a, b):\n",
    "    return a + b\n",
    "\n",
    "result = somma(4, 5)\n",
    "result"
   ]
  },
  {
   "cell_type": "code",
   "execution_count": 21,
   "metadata": {},
   "outputs": [
    {
     "data": {
      "text/plain": [
       "'Questa è una stringa'"
      ]
     },
     "execution_count": 21,
     "metadata": {},
     "output_type": "execute_result"
    }
   ],
   "source": [
    "strval"
   ]
  },
  {
   "cell_type": "code",
   "execution_count": 22,
   "metadata": {},
   "outputs": [
    {
     "name": "stdout",
     "output_type": "stream",
     "text": [
      "Q\n",
      "u\n",
      "e\n",
      "s\n",
      "t\n",
      "a\n",
      " \n",
      "è\n",
      " \n",
      "u\n",
      "n\n",
      "a\n",
      " \n",
      "s\n",
      "t\n",
      "r\n",
      "i\n",
      "n\n",
      "g\n",
      "a\n"
     ]
    }
   ],
   "source": [
    "for lettera in strval:\n",
    "    print(lettera)"
   ]
  },
  {
   "cell_type": "code",
   "execution_count": 24,
   "metadata": {},
   "outputs": [
    {
     "name": "stdout",
     "output_type": "stream",
     "text": [
      "obmuD\n"
     ]
    }
   ],
   "source": [
    "strval = 'Dumbo'\n",
    "print(strval[::-1])"
   ]
  },
  {
   "cell_type": "code",
   "execution_count": 58,
   "metadata": {},
   "outputs": [
    {
     "name": "stdout",
     "output_type": "stream",
     "text": [
      "True\n"
     ]
    }
   ],
   "source": [
    "def palindromo(a):\n",
    "    return a == a [::-1]\n",
    "result = palindromo ('anna')\n",
    "print(result)\n"
   ]
  },
  {
   "cell_type": "code",
   "execution_count": 1,
   "metadata": {},
   "outputs": [],
   "source": [
    "def fibonacci_fino_a_(numero):\n",
    "    primo = 1\n",
    "    secondo = 1\n",
    "    print(primo)\n",
    "    print(secondo)\n",
    "    for i in range(numero):\n",
    "        prossimo  = primo + secondo\n",
    "        if prossimo > 10:\n",
    "            return\n",
    "        print(prossimo)\n",
    "        primo = secondo\n",
    "        secondo = prossimo\n"
   ]
  },
  {
   "cell_type": "code",
   "execution_count": 2,
   "metadata": {},
   "outputs": [
    {
     "name": "stdout",
     "output_type": "stream",
     "text": [
      "1\n",
      "1\n",
      "2\n",
      "3\n",
      "5\n",
      "8\n"
     ]
    }
   ],
   "source": [
    "fibonacci_fino_a_(10)"
   ]
  },
  {
   "cell_type": "code",
   "execution_count": 3,
   "metadata": {},
   "outputs": [
    {
     "name": "stdout",
     "output_type": "stream",
     "text": [
      "Mario\n"
     ]
    }
   ],
   "source": [
    "firstName = 'Mario'\n",
    "print (firstName)"
   ]
  },
  {
   "cell_type": "code",
   "execution_count": 6,
   "metadata": {},
   "outputs": [
    {
     "name": "stdout",
     "output_type": "stream",
     "text": [
      "25\n"
     ]
    }
   ],
   "source": [
    "age = 25\n",
    "print (age)"
   ]
  },
  {
   "cell_type": "code",
   "execution_count": 8,
   "metadata": {},
   "outputs": [
    {
     "name": "stdout",
     "output_type": "stream",
     "text": [
      "Hello, I'm Mario!\n"
     ]
    }
   ],
   "source": [
    "sentence = 'Hello, I\\'m Mario!'\n",
    "print (sentence)"
   ]
  },
  {
   "cell_type": "code",
   "execution_count": 11,
   "metadata": {},
   "outputs": [],
   "source": [
    "amount = 3,67\n"
   ]
  },
  {
   "cell_type": "code",
   "execution_count": 16,
   "metadata": {},
   "outputs": [
    {
     "name": "stdout",
     "output_type": "stream",
     "text": [
      "True True True\n"
     ]
    }
   ],
   "source": [
    "a = True\n",
    "b = True\n",
    "c = True\n",
    "\n",
    "print (a, b, c)"
   ]
  },
  {
   "cell_type": "code",
   "execution_count": 18,
   "metadata": {},
   "outputs": [],
   "source": [
    "name = 'Martina'\n",
    "age = 33\n",
    "city = 'Palermo'"
   ]
  },
  {
   "cell_type": "code",
   "execution_count": 19,
   "metadata": {},
   "outputs": [
    {
     "name": "stdout",
     "output_type": "stream",
     "text": [
      "Hello! My name is Martina, I'm 33 years old and I live in Palermo.\n"
     ]
    }
   ],
   "source": [
    "introduction = \"Hello! My name is \" + name + \", I'm \" + str(age) + \" years old and I live in \" + city + \".\"\n",
    "print(introduction)"
   ]
  },
  {
   "cell_type": "code",
   "execution_count": 20,
   "metadata": {},
   "outputs": [],
   "source": [
    "name = \"Champion \" + name"
   ]
  },
  {
   "cell_type": "code",
   "execution_count": 21,
   "metadata": {},
   "outputs": [
    {
     "name": "stdout",
     "output_type": "stream",
     "text": [
      "Hello! My name is Champion Martina, I'm 33 years old and I live in Palermo.\n"
     ]
    }
   ],
   "source": [
    "new_introduction = \"Hello! My name is {}, I'm {} years old and I live in {}.\".format(name, age, city)\n",
    "print(new_introduction)"
   ]
  },
  {
   "cell_type": "code",
   "execution_count": 22,
   "metadata": {},
   "outputs": [],
   "source": [
    "height = 1.67\n",
    "is_hero = True"
   ]
  },
  {
   "cell_type": "code",
   "execution_count": 23,
   "metadata": {},
   "outputs": [
    {
     "name": "stdout",
     "output_type": "stream",
     "text": [
      "Type of name: <class 'str'>\n",
      "Type of age: <class 'int'>\n",
      "Type of city: <class 'str'>\n",
      "Type of height: <class 'float'>\n",
      "Type of is_hero: <class 'bool'>\n"
     ]
    }
   ],
   "source": [
    "print(\"Type of name:\", type(name))\n",
    "print(\"Type of age:\", type(age))\n",
    "print(\"Type of city:\", type(city))\n",
    "print(\"Type of height:\", type(height))\n",
    "print(\"Type of is_hero:\", type(is_hero))"
   ]
  },
  {
   "cell_type": "code",
   "execution_count": 8,
   "metadata": {},
   "outputs": [],
   "source": [
    "my_first2_Name = 'Mario'"
   ]
  },
  {
   "cell_type": "code",
   "execution_count": 10,
   "metadata": {},
   "outputs": [
    {
     "data": {
      "text/plain": [
       "'Hi, \\nmy name is\\nJohn Doe'"
      ]
     },
     "execution_count": 10,
     "metadata": {},
     "output_type": "execute_result"
    }
   ],
   "source": [
    "'''Hi, \n",
    "my name is\n",
    "John Doe'''"
   ]
  },
  {
   "cell_type": "code",
   "execution_count": 11,
   "metadata": {},
   "outputs": [
    {
     "name": "stdout",
     "output_type": "stream",
     "text": [
      "9 Bye 5.36\n"
     ]
    }
   ],
   "source": [
    "d, e, f = 9, \"Bye\", 5.36\n",
    "print(d, e, f)"
   ]
  },
  {
   "cell_type": "code",
   "execution_count": 12,
   "metadata": {},
   "outputs": [],
   "source": [
    "a = 12\n",
    "b = 'Hello'"
   ]
  },
  {
   "cell_type": "code",
   "execution_count": 17,
   "metadata": {},
   "outputs": [
    {
     "name": "stdout",
     "output_type": "stream",
     "text": [
      "Hello 12\n"
     ]
    }
   ],
   "source": [
    "a = 12\n",
    "b = \"Hello\"\n",
    "\n",
    "c = a  \n",
    "a = b     \n",
    "b = c\n",
    "\n",
    "print(a, b)"
   ]
  },
  {
   "cell_type": "code",
   "execution_count": 18,
   "metadata": {},
   "outputs": [
    {
     "name": "stdout",
     "output_type": "stream",
     "text": [
      "6\n",
      "8\n",
      "2\n"
     ]
    }
   ],
   "source": [
    "Hello = 'Hello!'\n",
    "name = 'John Doe'\n",
    "age = '40'\n",
    "\n",
    "print(len(Hello)) \n",
    "print(len(name))  \n",
    "print(len(age))  "
   ]
  },
  {
   "cell_type": "code",
   "execution_count": 1,
   "metadata": {},
   "outputs": [],
   "source": [
    "a = 'ON'"
   ]
  },
  {
   "cell_type": "code",
   "execution_count": 3,
   "metadata": {},
   "outputs": [
    {
     "name": "stdout",
     "output_type": "stream",
     "text": [
      "on\n"
     ]
    }
   ],
   "source": [
    "a = a.lower ()\n",
    "print (a)"
   ]
  },
  {
   "cell_type": "code",
   "execution_count": 22,
   "metadata": {},
   "outputs": [],
   "source": [
    "name = 'tom'\n"
   ]
  },
  {
   "cell_type": "code",
   "execution_count": 23,
   "metadata": {},
   "outputs": [
    {
     "name": "stdout",
     "output_type": "stream",
     "text": [
      "Tom\n"
     ]
    }
   ],
   "source": [
    "name = name.capitalize()\n",
    "print(name)"
   ]
  },
  {
   "cell_type": "code",
   "execution_count": 6,
   "metadata": {},
   "outputs": [],
   "source": [
    "distance = 'long'"
   ]
  },
  {
   "cell_type": "code",
   "execution_count": 7,
   "metadata": {},
   "outputs": [
    {
     "name": "stdout",
     "output_type": "stream",
     "text": [
      "LONG\n"
     ]
    }
   ],
   "source": [
    "distance = distance.upper()\n",
    "print(distance)"
   ]
  },
  {
   "cell_type": "code",
   "execution_count": 8,
   "metadata": {},
   "outputs": [],
   "source": [
    "action = 'walk'"
   ]
  },
  {
   "cell_type": "code",
   "execution_count": 9,
   "metadata": {},
   "outputs": [
    {
     "name": "stdout",
     "output_type": "stream",
     "text": [
      "wolk\n"
     ]
    }
   ],
   "source": [
    "action = action.replace('a' , 'o')\n",
    "print(action)"
   ]
  },
  {
   "cell_type": "code",
   "execution_count": 12,
   "metadata": {},
   "outputs": [
    {
     "name": "stdout",
     "output_type": "stream",
     "text": [
      "Final sign text: on Tom LONG wolk\n"
     ]
    }
   ],
   "source": [
    "print(\"Final sign text:\", a, name , distance , action)"
   ]
  },
  {
   "cell_type": "code",
   "execution_count": null,
   "metadata": {},
   "outputs": [],
   "source": [
    "Final_sign_text = 'on Tom LONG wolk'"
   ]
  },
  {
   "cell_type": "code",
   "execution_count": null,
   "metadata": {},
   "outputs": [
    {
     "name": "stdout",
     "output_type": "stream",
     "text": [
      "['on', 'Tom', 'LONG', 'wolk']\n"
     ]
    }
   ],
   "source": [
    "Final_sign_text = Final_sign_text.split()\n",
    "print(Final_sign_text)"
   ]
  },
  {
   "cell_type": "code",
   "execution_count": 15,
   "metadata": {},
   "outputs": [],
   "source": [
    "name = \"James\"\n",
    "age = 25"
   ]
  },
  {
   "cell_type": "code",
   "execution_count": 16,
   "metadata": {},
   "outputs": [],
   "source": [
    "hello = f\"Hello, {name}! Welcome to the conference. You are {age} years old.\""
   ]
  },
  {
   "cell_type": "code",
   "execution_count": 17,
   "metadata": {},
   "outputs": [
    {
     "name": "stdout",
     "output_type": "stream",
     "text": [
      "Hello, James! Welcome to the conference. You are 25 years old.\n"
     ]
    }
   ],
   "source": [
    "print(hello)"
   ]
  },
  {
   "cell_type": "code",
   "execution_count": 3,
   "metadata": {},
   "outputs": [],
   "source": [
    "name = 'Martina'  \n",
    "age = '33'\n",
    "city = 'Palermo'"
   ]
  },
  {
   "cell_type": "code",
   "execution_count": 4,
   "metadata": {},
   "outputs": [
    {
     "name": "stdout",
     "output_type": "stream",
     "text": [
      "Profile Information: Name: Martina, Age: 33, City: Palermo\n"
     ]
    }
   ],
   "source": [
    "profile_info = f'Name: {name}, Age: {age}, City: {city}'\n",
    "print('Profile Information:', profile_info)"
   ]
  },
  {
   "cell_type": "code",
   "execution_count": 5,
   "metadata": {},
   "outputs": [],
   "source": [
    "name = name.lower()\n",
    "age = age.lower()\n",
    "city = city.lower()"
   ]
  },
  {
   "cell_type": "code",
   "execution_count": 6,
   "metadata": {},
   "outputs": [
    {
     "name": "stdout",
     "output_type": "stream",
     "text": [
      "Length of name: 7\n",
      "Length of age: 2\n",
      "Length of city: 7\n"
     ]
    }
   ],
   "source": [
    "print(f'Length of name: {len(name)}')\n",
    "print(f'Length of age: {len(age)}')\n",
    "print(f'Length of city: {len(city)}')"
   ]
  },
  {
   "cell_type": "code",
   "execution_count": 7,
   "metadata": {},
   "outputs": [
    {
     "name": "stdout",
     "output_type": "stream",
     "text": [
      "Full Name: Martina Mazzone\n"
     ]
    }
   ],
   "source": [
    "first_name = 'Martina'\n",
    "last_name = 'Mazzone'\n",
    "full_name = first_name + \" \" + last_name\n",
    "print('Full Name:', full_name)"
   ]
  },
  {
   "cell_type": "code",
   "execution_count": 8,
   "metadata": {},
   "outputs": [
    {
     "name": "stdout",
     "output_type": "stream",
     "text": [
      "My favorite programming language is Python.\n"
     ]
    }
   ],
   "source": [
    "fav_language = 'Python'\n",
    "language_sentence = f'My favorite programming language is {fav_language}.'\n",
    "print(language_sentence)"
   ]
  },
  {
   "cell_type": "code",
   "execution_count": 10,
   "metadata": {},
   "outputs": [
    {
     "name": "stdout",
     "output_type": "stream",
     "text": [
      "Calculated Age: 33\n"
     ]
    }
   ],
   "source": [
    "current_year = 2024\n",
    "birth_year = 1991\n",
    "calculated_age = current_year - birth_year\n",
    "print(f'Calculated Age: {calculated_age}')"
   ]
  },
  {
   "cell_type": "code",
   "execution_count": 11,
   "metadata": {},
   "outputs": [
    {
     "name": "stdout",
     "output_type": "stream",
     "text": [
      "Bio character count: 79\n"
     ]
    }
   ],
   "source": [
    "bio = 'My interest is coding and exploring new technologies. Python is freaking me out'\n",
    "print(f'Bio character count: {len(bio)}')"
   ]
  },
  {
   "cell_type": "code",
   "execution_count": null,
   "metadata": {},
   "outputs": [
    {
     "name": "stdout",
     "output_type": "stream",
     "text": [
      "Hello Martina!\n"
     ]
    }
   ],
   "source": [
    "user_name = 'Martina'\n",
    "first_letter = user_name[0]\n",
    "last_letter = user_name[-1]\n",
    "greeting = f'Hello {user_name}!'\n",
    "print(greeting)\n"
   ]
  },
  {
   "cell_type": "code",
   "execution_count": 16,
   "metadata": {},
   "outputs": [
    {
     "name": "stdout",
     "output_type": "stream",
     "text": [
      "Name is valid.\n"
     ]
    }
   ],
   "source": [
    "if any(char.isdigit() for char in user_name):\n",
    "    print('Names should not contain numbers.')\n",
    "else:\n",
    "    print('Name is valid.')"
   ]
  },
  {
   "cell_type": "code",
   "execution_count": 19,
   "metadata": {},
   "outputs": [],
   "source": [
    "user_input = \"I'm feeling very sad today.\"\n"
   ]
  },
  {
   "cell_type": "code",
   "execution_count": 20,
   "metadata": {},
   "outputs": [
    {
     "name": "stdout",
     "output_type": "stream",
     "text": [
      "Chatbot response: I'm feeling very happy today.\n"
     ]
    }
   ],
   "source": [
    "cheer_up_response = user_input.replace('sad', 'happy')\n",
    "print('Chatbot response:', cheer_up_response)"
   ]
  },
  {
   "cell_type": "code",
   "execution_count": 21,
   "metadata": {},
   "outputs": [
    {
     "name": "stdout",
     "output_type": "stream",
     "text": [
      "User input broken down into words:\n",
      "I'm\n",
      "feeling\n",
      "very\n",
      "sad\n",
      "today.\n"
     ]
    }
   ],
   "source": [
    "words = user_input.split()\n",
    "print('User input broken down into words:')\n",
    "for word in words:\n",
    "    print(word)"
   ]
  },
  {
   "cell_type": "code",
   "execution_count": 22,
   "metadata": {},
   "outputs": [],
   "source": [
    "name = 'Martina'"
   ]
  },
  {
   "cell_type": "code",
   "execution_count": 24,
   "metadata": {},
   "outputs": [
    {
     "name": "stdout",
     "output_type": "stream",
     "text": [
      "Unique Username: Ma\n"
     ]
    }
   ],
   "source": [
    "username = name[0] + name[-1]\n",
    "print('Unique Username:', username)"
   ]
  },
  {
   "cell_type": "code",
   "execution_count": 25,
   "metadata": {},
   "outputs": [
    {
     "name": "stdout",
     "output_type": "stream",
     "text": [
      "Unique Code: rti\n"
     ]
    }
   ],
   "source": [
    "middle_index = len(name) // 2\n",
    "if len(name) >= 3:\n",
    "    unique_code = name[middle_index - 1:middle_index + 2]\n",
    "else:\n",
    "    unique_code = name\n",
    "print('Unique Code:', unique_code)"
   ]
  },
  {
   "cell_type": "code",
   "execution_count": 26,
   "metadata": {},
   "outputs": [
    {
     "name": "stdout",
     "output_type": "stream",
     "text": [
      "Greeting Message: Welcome, Martina! We're glad to have you here.\n"
     ]
    }
   ],
   "source": [
    "greeting_message = f\"Welcome, {name}! We're glad to have you here.\"\n",
    "print(\"Greeting Message:\", greeting_message)"
   ]
  },
  {
   "cell_type": "code",
   "execution_count": 27,
   "metadata": {},
   "outputs": [
    {
     "name": "stdout",
     "output_type": "stream",
     "text": [
      "Name Length: 7\n"
     ]
    }
   ],
   "source": [
    "name_length = len(name)\n",
    "print('Name Length:', name_length)"
   ]
  },
  {
   "cell_type": "code",
   "execution_count": 28,
   "metadata": {},
   "outputs": [],
   "source": [
    "quote = 'The sky is blue.'"
   ]
  },
  {
   "cell_type": "code",
   "execution_count": 31,
   "metadata": {},
   "outputs": [
    {
     "name": "stdout",
     "output_type": "stream",
     "text": [
      "sky\n"
     ]
    }
   ],
   "source": [
    "extracted_word = quote[4:7]\n",
    "print(extracted_word)"
   ]
  },
  {
   "cell_type": "code",
   "execution_count": null,
   "metadata": {},
   "outputs": [
    {
     "data": {
      "text/plain": [
       "'SKY'"
      ]
     },
     "execution_count": 32,
     "metadata": {},
     "output_type": "execute_result"
    }
   ],
   "source": [
    "extracted_word.upper()"
   ]
  },
  {
   "cell_type": "code",
   "execution_count": null,
   "metadata": {},
   "outputs": [
    {
     "name": "stdout",
     "output_type": "stream",
     "text": [
      "Today's highlighted word is: SKY\n"
     ]
    }
   ],
   "source": [
    "new_message = f\"Today's highlighted word is: {extracted_word.upper()}\"\n",
    "-print(new_message)"
   ]
  },
  {
   "cell_type": "code",
   "execution_count": 1,
   "metadata": {},
   "outputs": [],
   "source": [
    "a_dict = {\"username\": \"mario balotelli\",\n",
    "          \"password\": \"123456\",\n",
    "          \"email\": \"marioandraffaella@gmail.com\"\n",
    "          }"
   ]
  },
  {
   "cell_type": "code",
   "execution_count": null,
   "metadata": {},
   "outputs": [
    {
     "data": {
      "text/plain": [
       "{'username': 'mario balotelli',\n",
       " 'password': '123456',\n",
       " 'email': 'marioandraffaella@gmail.com'}"
      ]
     },
     "execution_count": 2,
     "metadata": {},
     "output_type": "execute_result"
    }
   ],
   "source": [
    "a_dict"
   ]
  },
  {
   "cell_type": "code",
   "execution_count": 3,
   "metadata": {},
   "outputs": [
    {
     "data": {
      "text/plain": [
       "'mario balotelli'"
      ]
     },
     "execution_count": 3,
     "metadata": {},
     "output_type": "execute_result"
    }
   ],
   "source": [
    "a_dict[\"username\"]"
   ]
  },
  {
   "cell_type": "code",
   "execution_count": 5,
   "metadata": {},
   "outputs": [
    {
     "data": {
      "text/plain": [
       "'mario balotelli'"
      ]
     },
     "execution_count": 5,
     "metadata": {},
     "output_type": "execute_result"
    }
   ],
   "source": [
    "a = 'mario balotelli'\n",
    "a"
   ]
  },
  {
   "cell_type": "code",
   "execution_count": 20,
   "metadata": {},
   "outputs": [
    {
     "name": "stdout",
     "output_type": "stream",
     "text": [
      "m\n",
      "a\n",
      "r\n",
      "i\n",
      "o\n",
      " \n",
      "b\n",
      "a\n",
      "l\n",
      "o\n",
      "t\n",
      "e\n",
      "l\n",
      "l\n",
      "i\n"
     ]
    }
   ],
   "source": [
    "for i in a:\n",
    "    print(i)"
   ]
  },
  {
   "cell_type": "code",
   "execution_count": 12,
   "metadata": {},
   "outputs": [
    {
     "data": {
      "text/plain": [
       "{'username': 'mario balotelli',\n",
       " 'password': '123456',\n",
       " 'email': 'marioandraffaella@gmail.com'}"
      ]
     },
     "execution_count": 12,
     "metadata": {},
     "output_type": "execute_result"
    }
   ],
   "source": [
    "a_dict"
   ]
  },
  {
   "cell_type": "code",
   "execution_count": 13,
   "metadata": {},
   "outputs": [
    {
     "data": {
      "text/plain": [
       "{'username': 'mario balotelli',\n",
       " 'password': '123456',\n",
       " 'email': 'marioandraffaella@gmail.com',\n",
       " 'team': 'Brescia'}"
      ]
     },
     "execution_count": 13,
     "metadata": {},
     "output_type": "execute_result"
    }
   ],
   "source": [
    "a_dict ['team'] = 'Brescia'\n",
    "a_dict"
   ]
  },
  {
   "cell_type": "code",
   "execution_count": 10,
   "metadata": {},
   "outputs": [
    {
     "name": "stdout",
     "output_type": "stream",
     "text": [
      "username ---- mario balotelli\n",
      "password ---- 123456\n",
      "email ---- marioandraffaella@gmail.com\n"
     ]
    }
   ],
   "source": [
    "for k, v in a_dict.items():\n",
    "    print(k,'----', v)"
   ]
  },
  {
   "cell_type": "code",
   "execution_count": 8,
   "metadata": {},
   "outputs": [
    {
     "name": "stdout",
     "output_type": "stream",
     "text": [
      "dict_items([('username', 'mario balotelli'), ('password', '123456'), ('email', 'marioandraffaella@gmail.com')])\n"
     ]
    }
   ],
   "source": [
    "print(a_dict.items())"
   ]
  },
  {
   "cell_type": "code",
   "execution_count": 11,
   "metadata": {},
   "outputs": [
    {
     "name": "stdout",
     "output_type": "stream",
     "text": [
      "[1, 3, 5, 7]\n"
     ]
    }
   ],
   "source": [
    "print(sorted([1, 5, 7, 3]))"
   ]
  },
  {
   "cell_type": "code",
   "execution_count": 16,
   "metadata": {},
   "outputs": [
    {
     "name": "stdout",
     "output_type": "stream",
     "text": [
      "{'d': 4, 'a': 12, 't': 8, 'u': 4, 'n': 12, 's': 10, 'r': 5, 'i': 12, 'g': 4, 'l': 8, 'h': 3, 'm': 4, 'v': 1, 'o': 9, 'c': 7, 'e': 16, 'p': 2, 'z': 1}\n"
     ]
    }
   ],
   "source": [
    "def conta_occorrenze_lettere(stringa):\n",
    "    stringa = stringa.lower()\n",
    "    occorrenze = {}\n",
    "\n",
    "    for carattere in stringa:\n",
    "        if carattere.isalpha():\n",
    "            if carattere in occorrenze:\n",
    "                occorrenze[carattere] += 1\n",
    "            else:\n",
    "                occorrenze[carattere] = 1\n",
    "\n",
    "    return occorrenze\n",
    "stringa = \"Data una stringa lunghissima voglio che si contino per ogni lettera, indipendentemente che sia maiuscola o minuscola, le occerrenze della stessa\"\n",
    "print(conta_occorrenze_lettere(stringa))\n"
   ]
  },
  {
   "cell_type": "code",
   "execution_count": 1,
   "metadata": {},
   "outputs": [
    {
     "name": "stdout",
     "output_type": "stream",
     "text": [
      "rest: 1\n"
     ]
    }
   ],
   "source": [
    "apples = 5\n",
    "students = 2\n",
    "\n",
    "distributed_apples = (apples // students) * students\n",
    "\n",
    "rest = apples - distributed_apples\n",
    "print(\"rest:\", rest)"
   ]
  },
  {
   "cell_type": "code",
   "execution_count": 2,
   "metadata": {},
   "outputs": [
    {
     "name": "stdout",
     "output_type": "stream",
     "text": [
      "True\n"
     ]
    }
   ],
   "source": [
    "first_name = \"Mario\"\n",
    "last_name = \"Johnson\"\n",
    "\n",
    "print(not (first_name == \"Mario\" and last_name == \"Smith\"))"
   ]
  },
  {
   "cell_type": "code",
   "execution_count": 3,
   "metadata": {},
   "outputs": [
    {
     "name": "stdout",
     "output_type": "stream",
     "text": [
      "Mario Rossi\n"
     ]
    }
   ],
   "source": [
    "firstName = \"Mario\"\n",
    "lastName = \"Rossi\"\n",
    "\n",
    "full_name = firstName + \" \" + lastName\n",
    "\n",
    "print(full_name)"
   ]
  },
  {
   "cell_type": "code",
   "execution_count": 5,
   "metadata": {},
   "outputs": [
    {
     "name": "stdout",
     "output_type": "stream",
     "text": [
      "You are not eligible to drive a car.\n"
     ]
    }
   ],
   "source": [
    "age = 14\n",
    "has_license = \"yes\" \n",
    "\n",
    "is_eligible = (age >= 18) and (has_license == \"yes\")\n",
    "\n",
    "print(\"You are eligible to drive a car.\" if is_eligible else \"You are not eligible to drive a car.\")"
   ]
  },
  {
   "cell_type": "code",
   "execution_count": 8,
   "metadata": {},
   "outputs": [
    {
     "name": "stdout",
     "output_type": "stream",
     "text": [
      "Network address: 144\n"
     ]
    }
   ],
   "source": [
    "ip_address = 145\n",
    "subnet_mask = 156\n",
    "\n",
    "network_address = ip_address & subnet_mask\n",
    "\n",
    "print(\"Network address:\", network_address)"
   ]
  },
  {
   "cell_type": "code",
   "execution_count": 9,
   "metadata": {},
   "outputs": [
    {
     "name": "stdout",
     "output_type": "stream",
     "text": [
      "Total items in the bakery: 7\n"
     ]
    }
   ],
   "source": [
    "a = 3\n",
    "b = 4\n",
    "\n",
    "total_items = a + b\n",
    "\n",
    "print(\"Total items in the bakery:\", total_items)"
   ]
  },
  {
   "cell_type": "code",
   "execution_count": 10,
   "metadata": {},
   "outputs": [
    {
     "name": "stdout",
     "output_type": "stream",
     "text": [
      "Remaining lives after encounter: 5\n"
     ]
    }
   ],
   "source": [
    "x = 7\n",
    "y = 2\n",
    "\n",
    "remaining_lives = x - y\n",
    "\n",
    "print(\"Remaining lives after encounter:\", remaining_lives)"
   ]
  },
  {
   "cell_type": "code",
   "execution_count": 11,
   "metadata": {},
   "outputs": [
    {
     "name": "stdout",
     "output_type": "stream",
     "text": [
      "Total cost for the customer: 15\n"
     ]
    }
   ],
   "source": [
    "p = 5\n",
    "q = 3\n",
    "\n",
    "total_cost = p * q\n",
    "\n",
    "print(\"Total cost for the customer:\", total_cost)"
   ]
  },
  {
   "cell_type": "code",
   "execution_count": 12,
   "metadata": {},
   "outputs": [
    {
     "name": "stdout",
     "output_type": "stream",
     "text": [
      "Students per team: 4\n",
      "Remaining students: 0\n"
     ]
    }
   ],
   "source": [
    "m = 8\n",
    "n = 2\n",
    "\n",
    "students_per_team = m // n\n",
    "remainder = m % n\n",
    "\n",
    "print(\"Students per team:\", students_per_team)\n",
    "print(\"Remaining students:\", remainder)"
   ]
  },
  {
   "cell_type": "code",
   "execution_count": 13,
   "metadata": {},
   "outputs": [
    {
     "name": "stdout",
     "output_type": "stream",
     "text": [
      "Integer division of adult tickets by child tickets: 1\n"
     ]
    }
   ],
   "source": [
    "b = 4\n",
    "a = 3\n",
    "\n",
    "division_result = b // a\n",
    "\n",
    "print(\"Integer division of adult tickets by child tickets:\", division_result)"
   ]
  },
  {
   "cell_type": "code",
   "execution_count": 14,
   "metadata": {},
   "outputs": [
    {
     "name": "stdout",
     "output_type": "stream",
     "text": [
      "Remaining adult tickets after forming family packages: 1\n"
     ]
    }
   ],
   "source": [
    "remainder = b % a\n",
    "\n",
    "print(\"Remaining adult tickets after forming family packages:\", remainder)"
   ]
  },
  {
   "cell_type": "code",
   "execution_count": 15,
   "metadata": {},
   "outputs": [
    {
     "name": "stdout",
     "output_type": "stream",
     "text": [
      "Sum of all elements in the list: 35\n"
     ]
    }
   ],
   "source": [
    "numbers = [3, 5, 7, 9, 11]\n",
    "\n",
    "total_sum = sum(numbers)\n",
    "\n",
    "print(\"Sum of all elements in the list:\", total_sum)"
   ]
  },
  {
   "cell_type": "code",
   "execution_count": 16,
   "metadata": {},
   "outputs": [
    {
     "name": "stdout",
     "output_type": "stream",
     "text": [
      "Average grade: 79.6\n"
     ]
    }
   ],
   "source": [
    "grades = [83, 85, 72, 63, 95]\n",
    "\n",
    "average_grade = sum(grades) / len(grades)\n",
    "\n",
    "print(\"Average grade:\", average_grade)"
   ]
  },
  {
   "cell_type": "code",
   "execution_count": 17,
   "metadata": {},
   "outputs": [
    {
     "name": "stdout",
     "output_type": "stream",
     "text": [
      "Highest price: 25\n",
      "Lowest price: 5\n"
     ]
    }
   ],
   "source": [
    "prices = [5, 10, 15, 20, 25]\n",
    "\n",
    "highest_price = max(prices)\n",
    "lowest_price = min(prices)\n",
    "\n",
    "print(\"Highest price:\", highest_price)\n",
    "print(\"Lowest price:\", lowest_price)"
   ]
  },
  {
   "cell_type": "code",
   "execution_count": 18,
   "metadata": {},
   "outputs": [
    {
     "name": "stdout",
     "output_type": "stream",
     "text": [
      "Number of vowels in the sentence: 11\n"
     ]
    }
   ],
   "source": [
    "sentence = \"The quick brown fox jumps over the lazy dog.\"\n",
    "vowels = \"aeiouAEIOU\"\n",
    "count = sum(1 for char in sentence if char in vowels)\n",
    "\n",
    "print(\"Number of vowels in the sentence:\", count)"
   ]
  },
  {
   "cell_type": "code",
   "execution_count": 20,
   "metadata": {},
   "outputs": [
    {
     "name": "stdout",
     "output_type": "stream",
     "text": [
      "Odd numbers: [1, 3, 5, 7, 9]\n"
     ]
    }
   ],
   "source": [
    "numbers = [1, 2, 3, 4, 5, 6, 7, 8, 9, 10]\n",
    "odd_numbers = [num for num in numbers if num % 2 != 0]\n",
    "\n",
    "print(\"Odd numbers:\", odd_numbers)"
   ]
  },
  {
   "cell_type": "code",
   "execution_count": 21,
   "metadata": {},
   "outputs": [
    {
     "name": "stdout",
     "output_type": "stream",
     "text": [
      "Numbers List: [1, 3, 5]\n",
      "Strings List: ['apple', 'banana', 'cherry']\n"
     ]
    }
   ],
   "source": [
    "mixed_list = [1, \"apple\", 3, \"banana\", 5, \"cherry\"]\n",
    "numbers_list = [item for item in mixed_list if isinstance(item, int)]\n",
    "strings_list = [item for item in mixed_list if isinstance(item, str)]\n",
    "\n",
    "print(\"Numbers List:\", numbers_list)\n",
    "print(\"Strings List:\", strings_list)"
   ]
  },
  {
   "cell_type": "code",
   "execution_count": 22,
   "metadata": {},
   "outputs": [
    {
     "name": "stdout",
     "output_type": "stream",
     "text": [
      "Original price: 14.99\n",
      "Price as integer: 14\n",
      "Price tag (as string): 14\n"
     ]
    }
   ],
   "source": [
    "price = 14.99\n",
    "\n",
    "new_price = int(price)\n",
    "\n",
    "price_tag = str(new_price)\n",
    "\n",
    "print(\"Original price:\", price)\n",
    "print(\"Price as integer:\", new_price)\n",
    "print(\"Price tag (as string):\", price_tag)"
   ]
  },
  {
   "cell_type": "code",
   "execution_count": 27,
   "metadata": {},
   "outputs": [
    {
     "name": "stdout",
     "output_type": "stream",
     "text": [
      "Original amount in USD: 23.4598767\n",
      "Original amount in USD: 65.9654858\n",
      "Original amount in USD: 78.6655955\n",
      "Rounded display amount: 23.46\n",
      "Rounded display amount: 65.97\n",
      "Rounded display amount: 78.67\n"
     ]
    }
   ],
   "source": [
    "amount_in_usd1 = 23.4598767\n",
    "amount_in_usd2 = 65.9654858\n",
    "amount_in_usd3 = 78.6655955\n",
    "\n",
    "display_amount = round(amount_in_usd1, 2)\n",
    "display_amount2 = round(amount_in_usd2, 2)\n",
    "display_amount3 = round(amount_in_usd3, 2)\n",
    "\n",
    "print(\"Original amount in USD:\", amount_in_usd1)\n",
    "print(\"Original amount in USD:\", amount_in_usd2)\n",
    "print(\"Original amount in USD:\", amount_in_usd3)\n",
    "print(\"Rounded display amount:\", display_amount)\n",
    "print(\"Rounded display amount:\", display_amount2)\n",
    "print(\"Rounded display amount:\", display_amount3)"
   ]
  },
  {
   "cell_type": "code",
   "execution_count": 15,
   "metadata": {},
   "outputs": [
    {
     "name": "stdout",
     "output_type": "stream",
     "text": [
      "Tim's result: Very Good\n"
     ]
    }
   ],
   "source": [
    "score = 85\n",
    "\n",
    "if 0 <= score <= 49:\n",
    "    result = \"Fail\"\n",
    "elif 50 <= score <= 59:\n",
    "    result = \"Pass\"\n",
    "elif 60 <= score <= 74:\n",
    "    result = \"Good\"\n",
    "elif 75 <= score <= 89:\n",
    "    result = \"Very Good\"\n",
    "elif 90 <= score <= 100:\n",
    "    result = \"Excellent\"\n",
    "else:\n",
    "    result = \"Invalid score\"\n",
    "\n",
    "print(f\"Tim's result: {result}\")"
   ]
  },
  {
   "cell_type": "code",
   "execution_count": 25,
   "metadata": {},
   "outputs": [
    {
     "name": "stdout",
     "output_type": "stream",
     "text": [
      "Tim's result: Good\n"
     ]
    }
   ],
   "source": [
    "score = int(input(\"Please enter Tim's score: \"))\n",
    "\n",
    "if 0 <= score <= 49:\n",
    "    result = \"Fail\"\n",
    "elif 50 <= score <= 59:\n",
    "    result = \"Pass\"\n",
    "elif 60 <= score <= 74:\n",
    "    result = \"Good\"\n",
    "elif 75 <= score <= 89:\n",
    "    result = \"Very Good\"\n",
    "elif 90 <= score <= 100:\n",
    "    result = \"Excellent\"\n",
    "else:\n",
    "    result = \"Invalid score\"\n",
    "\n",
    "print(f\"Tim's result: {result}\")"
   ]
  },
  {
   "cell_type": "code",
   "execution_count": 27,
   "metadata": {},
   "outputs": [
    {
     "name": "stdout",
     "output_type": "stream",
     "text": [
      "Data sets number1 and number2 are equal.\n"
     ]
    }
   ],
   "source": [
    "## If number1 is greater than number2, print \"Data set number1 is larger than data set number2.\"\n",
    "## If number2 is greater than number1, print \"Data set number2 is larger than data set number1.\"\n",
    "## If number1 equals number2, print \"Data sets number1 and number2 are equal.\"\n",
    "\n",
    "number1 = 66\n",
    "number2 = 66\n",
    "\n",
    "if number1 > number2:\n",
    "    result = \"Data set number1 is larger than data set number2.\"\n",
    "elif number2 > number1:\n",
    "    result = \"Data set number2 is larger than data set number1.\"\n",
    "else:\n",
    "    result = \"Data sets number1 and number2 are equal.\"\n",
    "\n",
    "print (result)\n"
   ]
  },
  {
   "cell_type": "code",
   "execution_count": 30,
   "metadata": {},
   "outputs": [
    {
     "name": "stdout",
     "output_type": "stream",
     "text": [
      "359 304\n",
      "In the simulation, Player A scored more than Player B.\n"
     ]
    }
   ],
   "source": [
    "##Use Python's random module to generate two random integers between 300 and 400, representing the projected scores for Player A and Player B. Store these in two variables, scoreA and scoreB.\n",
    "## Write a Python program that compares the two scores.\n",
    "##If Player A's score is higher, print \"In the simulation, Player A scored more than Player B.\"\n",
    "##If Player B's score is higher, print \"In the simulation, Player B scored more than Player A.\"\n",
    "## If both players have the same score, print \"In the simulation, Player A and Player B have the same score.\"\n",
    "\n",
    "import random \n",
    "number1 = random.randint(300, 400)\n",
    "number2 = random.randint(300, 400)\n",
    "print(number1, number2)\n",
    "\n",
    "if number1 > number2:\n",
    "    result = \"In the simulation, Player A scored more than Player B.\"\n",
    "elif number2 > number1:\n",
    "    result = \"In the simulation, Player B scored more than Player A.\"\n",
    "else:\n",
    "    result = \"In the simulation, Player A and Player B have the same score.\"\n",
    "\n",
    "print (result)\n",
    "\n"
   ]
  },
  {
   "cell_type": "code",
   "execution_count": 32,
   "metadata": {},
   "outputs": [
    {
     "name": "stdout",
     "output_type": "stream",
     "text": [
      "The value of your assets is greater than the absolute value of your debts.\n"
     ]
    }
   ],
   "source": [
    "asset = 5000\n",
    "debt = -3000\n",
    "\n",
    "if abs(asset) > abs(debt):\n",
    "    print(\"The value of your assets is greater than the absolute value of your debts.\")\n",
    "elif abs(debt) > abs(asset):\n",
    "    print(\"The absolute value of your debts is greater than the value of your assets.\")\n",
    "else:\n",
    "    print(\"The value of your assets equals the absolute value of your debts.\")"
   ]
  },
  {
   "cell_type": "code",
   "execution_count": 33,
   "metadata": {},
   "outputs": [
    {
     "name": "stdout",
     "output_type": "stream",
     "text": [
      "You are a teenager.\n"
     ]
    }
   ],
   "source": [
    "##Write a Python program that takes input from the user for their age and then determines whether \n",
    "# they are a teenager or an adult. If the age is between 13 and 19 (inclusive), \n",
    "# print \"You are a teenager.\" Otherwise, print \"You are an adult.\"\n",
    "\n",
    "\n",
    "age = int(input(\"Please enter your age: \"))\n",
    "\n",
    "# Check if the user is a teenager or an adult\n",
    "if 13 <= age <= 19:\n",
    "    print(\"You are a teenager.\")\n",
    "else:\n",
    "    print(\"You are an adult.\")"
   ]
  },
  {
   "cell_type": "code",
   "execution_count": 34,
   "metadata": {},
   "outputs": [
    {
     "name": "stdout",
     "output_type": "stream",
     "text": [
      "Welcome, Martina from Palermo!\n"
     ]
    }
   ],
   "source": [
    "##Create a welcome page for a website that greets users based on their name and city. \n",
    "# First get user's name and city using a prompt. \n",
    "# Then, show a personalized welcome message like \"Welcome, [name] from [city]!\" using the provided name and city inputs.\n",
    "\n",
    "name = input(\"Please enter your name: \")\n",
    "city = input(\"Please enter your city: \")\n",
    "\n",
    "# Display a personalized welcome message\n",
    "print(f\"Welcome, {name} from {city}!\")"
   ]
  },
  {
   "cell_type": "code",
   "execution_count": 35,
   "metadata": {},
   "outputs": [
    {
     "name": "stdout",
     "output_type": "stream",
     "text": [
      "Your password is valid.\n"
     ]
    }
   ],
   "source": [
    "##Imagine you are designing a password creation form. \n",
    "# You need to ensure that passwords meet a minimum length requirement. \n",
    "# Check if the password length is at least 8 characters.(Use len function)\n",
    "\n",
    "password = input(\"Please create a password: \")\n",
    "\n",
    "# Check if the password meets the minimum length requirement\n",
    "if len(password) >= 8:\n",
    "    print(\"Your password is valid.\")\n",
    "else:\n",
    "    print(\"Your password must be at least 8 characters long.\")"
   ]
  },
  {
   "cell_type": "code",
   "execution_count": 36,
   "metadata": {},
   "outputs": [
    {
     "name": "stdout",
     "output_type": "stream",
     "text": [
      "This is a deposit.\n"
     ]
    }
   ],
   "source": [
    "##You are developing a financial software program that categorizes transactions. \n",
    "# Write a Python program to differentiate between deposits (positive amounts), \n",
    "# withdrawals (negative amounts), and no transactions (zero amounts). \n",
    "# Prompt the user to enter the transaction amount. \n",
    "# If the amount is positive, print \"This is a deposit.\" If the amount is negative, print \"This is a withdrawal.\" \n",
    "# If the amount is zero, print \"No transaction.\"\n",
    "\n",
    "transaction_amount = float(input(\"Please enter the transaction amount: \"))\n",
    "\n",
    "# Categorize the transaction based on the amount\n",
    "if transaction_amount > 0:\n",
    "    print(\"This is a deposit.\")\n",
    "elif transaction_amount < 0:\n",
    "    print(\"This is a withdrawal.\")\n",
    "else:\n",
    "    print(\"No transaction.\")"
   ]
  },
  {
   "cell_type": "code",
   "execution_count": 37,
   "metadata": {},
   "outputs": [
    {
     "name": "stdout",
     "output_type": "stream",
     "text": [
      "The first mountain is higher.\n"
     ]
    }
   ],
   "source": [
    "#Imagine you're developing an app for mountain climbers. \n",
    "# The users will input the heights of two mountains, and your program will indicate which one is higher. \n",
    "# If both are equal print equal.\n",
    "\n",
    "mountain1 = float(input(\"Enter the height of the first mountain: \"))\n",
    "mountain2 = float(input(\"Enter the height of the second mountain: \"))\n",
    "\n",
    "if mountain1 > mountain2:\n",
    "    print(\"The first mountain is higher.\")\n",
    "elif mountain2 > mountain1:\n",
    "    print(\"The second mountain is higher.\")\n",
    "else:\n",
    "    print(\"Both mountains have the same height.\")"
   ]
  },
  {
   "cell_type": "code",
   "execution_count": 38,
   "metadata": {},
   "outputs": [
    {
     "name": "stdout",
     "output_type": "stream",
     "text": [
      "The total bill amount is even.\n"
     ]
    }
   ],
   "source": [
    "#Imagine you're a diligent cashier at a grocery store, and your task is to find out if the total bill amount \n",
    "# from three different customers is an even or an odd number. \n",
    "# As the customers come to your counter, you quickly calculate the sum of their purchases. \n",
    "# With the magical power of Python, you have a special program that reveals whether the total bill amount \n",
    "# is an even or an odd number. This helps you ensure smooth transactions and provide \n",
    "# a delightful shopping experience to your customers.\n",
    "\n",
    "bill1 = float(input(\"Enter the bill amount for the first customer: \"))\n",
    "bill2 = float(input(\"Enter the bill amount for the second customer: \"))\n",
    "bill3 = float(input(\"Enter the bill amount for the third customer: \"))\n",
    "\n",
    "total_bill = bill1 + bill2 + bill3\n",
    "\n",
    "if total_bill % 2 == 0:\n",
    "    print(\"The total bill amount is even.\")\n",
    "else:\n",
    "    print(\"The total bill amount is odd.\")"
   ]
  },
  {
   "cell_type": "code",
   "execution_count": 40,
   "metadata": {},
   "outputs": [
    {
     "name": "stdout",
     "output_type": "stream",
     "text": [
      "1991\n",
      "1991 is not a leap year.\n"
     ]
    }
   ],
   "source": [
    "#You are a calendar enthusiast, and your mission is to determine whether a given year is a leap year or not. \n",
    "# Write a python program that shows if a year is leap or not.\n",
    "\n",
    "year = int(input(\"Enter a year: \"))\n",
    "print(year)\n",
    "if (year % 4 == 0 and year % 100 != 0) or (year % 400 == 0):\n",
    "    print(f\"{year} is a leap year.\")\n",
    "else:\n",
    "    print(f\"{year} is not a leap year.\")"
   ]
  },
  {
   "cell_type": "code",
   "execution_count": 41,
   "metadata": {},
   "outputs": [
    {
     "name": "stdout",
     "output_type": "stream",
     "text": [
      "It is a consonant.\n"
     ]
    }
   ],
   "source": [
    "#Imagine you're creating a language learning app. The user will input a letter and your program will \n",
    "# tell them if it is a vowel or a consonant.\n",
    "\n",
    "letter = input(\"Enter a letter: \").lower()\n",
    "\n",
    "if letter in 'aeiou':\n",
    "    print(\"It is a vowel.\")\n",
    "elif letter.isalpha():\n",
    "    print(\"It is a consonant.\")\n",
    "else:\n",
    "    print(\"Please enter a valid alphabet letter.\")"
   ]
  },
  {
   "cell_type": "code",
   "execution_count": 42,
   "metadata": {},
   "outputs": [
    {
     "name": "stdout",
     "output_type": "stream",
     "text": [
      "The temperature rose by 13.0 degrees.\n"
     ]
    }
   ],
   "source": [
    "#You are developing a Python program for your meteorology app to help track temperature changes. \n",
    "# The program will prompt the user to input the temperature reading for two consecutive days - \n",
    "# today's temperature and yesterday's temperature. The user should enter these temperatures in degrees Celsius. \n",
    "# Write a Python program that calculates the temperature change between the two days and determines whether \n",
    "# the temperature rose, fell, or remained the same. Provide appropriate feedback based on the calculated temperature change.\n",
    "\n",
    "today_temp = float(input(\"Enter today's temperature in Celsius: \"))\n",
    "yesterday_temp = float(input(\"Enter yesterday's temperature in Celsius: \"))\n",
    "\n",
    "temperature_change = today_temp - yesterday_temp\n",
    "\n",
    "if temperature_change > 0:\n",
    "    print(\"The temperature rose by\", temperature_change, \"degrees.\")\n",
    "elif temperature_change < 0:\n",
    "    print(\"The temperature fell by\", abs(temperature_change), \"degrees.\")\n",
    "else:\n",
    "    print(\"The temperature remained the same.\")"
   ]
  },
  {
   "cell_type": "code",
   "execution_count": 43,
   "metadata": {},
   "outputs": [
    {
     "name": "stdout",
     "output_type": "stream",
     "text": [
      "The number is not divisible by both 5 and 11.\n"
     ]
    }
   ],
   "source": [
    "#Imagine you are a helpful assistant to a math teacher. Your task is to create a Python program \n",
    "# that can check if a student's number is divisible by both 5 and 11. This program will provide instant \n",
    "# feedback to the students to assist them in their math exercises.\n",
    "\n",
    "number = int(input(\"Enter a number: \"))\n",
    "\n",
    "if number % 5 == 0 and number % 11 == 0:\n",
    "    print(\"The number is divisible by both 5 and 11.\")\n",
    "else:\n",
    "    print(\"The number is not divisible by both 5 and 11.\")"
   ]
  },
  {
   "cell_type": "code",
   "execution_count": 1,
   "metadata": {},
   "outputs": [
    {
     "name": "stdout",
     "output_type": "stream",
     "text": [
      "*\n",
      "**\n",
      "***\n",
      "****\n",
      "*****\n"
     ]
    }
   ],
   "source": [
    "i = 1\n",
    "while i <= 5:\n",
    "    print('*' * i)\n",
    "    i += 1\n"
   ]
  },
  {
   "cell_type": "code",
   "execution_count": 1,
   "metadata": {},
   "outputs": [
    {
     "name": "stdout",
     "output_type": "stream",
     "text": [
      "*\n",
      "***\n",
      "*****\n"
     ]
    }
   ],
   "source": [
    "for i in range(6):\n",
    "    if i % 2 == 0:\n",
    "        continue\n",
    "    print('*' * i)"
   ]
  },
  {
   "cell_type": "code",
   "execution_count": 3,
   "metadata": {},
   "outputs": [
    {
     "name": "stdout",
     "output_type": "stream",
     "text": [
      "Time for a coffee break!\n"
     ]
    }
   ],
   "source": [
    "activities = [\"reading\", \"writing\", \"singing\", \"COFFEE BREAK\", \"dancing\"]\n",
    "\n",
    "for activity in activities:\n",
    "    if activity == \"COFFEE BREAK\":\n",
    "        print(\"Time for a coffee break!\")\n",
    "        break"
   ]
  },
  {
   "cell_type": "code",
   "execution_count": 5,
   "metadata": {},
   "outputs": [
    {
     "name": "stdout",
     "output_type": "stream",
     "text": [
      "dog\n",
      "sheep\n",
      "mouse\n",
      "tiger\n",
      "bird\n",
      "lion\n",
      "ant\n",
      "snake\n",
      "bear\n",
      "lion lives in land\n",
      "bear lives in land\n"
     ]
    }
   ],
   "source": [
    "list1 = ['dog', 'sheep', 'mouse']\n",
    "tuple1 = ('tiger', 'bird', 'lion')\n",
    "set1 = {'snake', 'bear', 'ant'}\n",
    "dict1 = {'lion': 'land', 'bear': 'land', 'dog': 'house'}\n",
    "\n",
    "for element in list1:\n",
    "    print(element)\n",
    "\n",
    "for element in tuple1:\n",
    "    print(element)\n",
    "\n",
    "for element in set1:\n",
    "    print(element)\n",
    "\n",
    "for animal, habitat in dict1.items():\n",
    "    if habitat == 'land':\n",
    "        print(f\"{animal} lives in {habitat}\")"
   ]
  },
  {
   "cell_type": "code",
   "execution_count": null,
   "metadata": {},
   "outputs": [],
   "source": [
    "list1 = ['cat', 'dog', 'fish']\n",
    "tuple1 = ('lion', 'elephant', 'bird')\n",
    "set1 = {'tiger', 'bear', 'deer'}\n",
    "dict1 = {'lion': 4, 'elephant': 4, 'fish': 4}\n",
    "\n",
    "print(len(list1), len(tuple1), len(set1), len(dict1))\n",
    "\n",
    "print(list1[0], tuple1[0])\n",
    "\n",
    "print(dict1['lion'])\n",
    "\n",
    "list1[1] = \"rabbit\"\n",
    "print(list1)\n",
    "\n",
    "# This line below raise a TypeError because tuples can't be modified\n",
    "# tuple1[1] = \"rabbit\"\n",
    "\n",
    "list1.append(\"monkey\")\n",
    "print(list1)\n",
    "\n",
    "list1.remove(\"rabbit\")\n",
    "print(list1)\n",
    "\n",
    "dict1['fish'] = 0\n",
    "print(dict1)"
   ]
  },
  {
   "cell_type": "code",
   "execution_count": null,
   "metadata": {},
   "outputs": [],
   "source": [
    "def goodbye():\n",
    "    print(\"Good bye\")"
   ]
  },
  {
   "cell_type": "code",
   "execution_count": 6,
   "metadata": {},
   "outputs": [],
   "source": [
    "def goodbye(name):\n",
    "    print(f\"Good bye {name}\")"
   ]
  },
  {
   "cell_type": "code",
   "execution_count": 7,
   "metadata": {},
   "outputs": [
    {
     "name": "stdout",
     "output_type": "stream",
     "text": [
      "34611\n"
     ]
    }
   ],
   "source": [
    "import os\n",
    "\n",
    "user = os.getlogin()\n",
    "print(user)"
   ]
  },
  {
   "cell_type": "code",
   "execution_count": 8,
   "metadata": {},
   "outputs": [
    {
     "name": "stdout",
     "output_type": "stream",
     "text": [
      "Hello John Doe!\n",
      "Hello Kearon Mcpreston!\n",
      "Hello Bob Richardson!\n",
      "Hello Betty Smith!\n"
     ]
    }
   ],
   "source": [
    "def greet(name=\"John\", surname=\"Doe\"):\n",
    "    print(f\"Hello {name} {surname}!\")\n",
    "\n",
    "family = [\n",
    "    {'name': 'John', 'surname': 'Doe'},\n",
    "    {'name': 'Kearon', 'surname': 'Mcpreston'},\n",
    "    {'name': 'Bob', 'surname': 'Richardson'},\n",
    "    {'name': 'Betty', 'surname': 'Smith'}\n",
    "]\n",
    "\n",
    "for member in family:\n",
    "    greet(member['name'], member['surname'])"
   ]
  },
  {
   "cell_type": "code",
   "execution_count": 9,
   "metadata": {},
   "outputs": [
    {
     "name": "stdout",
     "output_type": "stream",
     "text": [
      "List:  [14, -50, -14, 45, -50, 82, -89, 80, -90, 84, -8, 90, 98, -89, 10]\n",
      "Sum:  113\n"
     ]
    }
   ],
   "source": [
    "import random\n",
    "\n",
    "def random_list_summer(n=15):\n",
    "    random_list = [random.randint(-100, 100) for _ in range(n)]\n",
    "    print(\"List: \", random_list)\n",
    "    print(\"Sum: \", sum(random_list))\n",
    "\n",
    "random_list_summer()\n"
   ]
  },
  {
   "cell_type": "code",
   "execution_count": 10,
   "metadata": {},
   "outputs": [
    {
     "name": "stdout",
     "output_type": "stream",
     "text": [
      "Fibonacci Sequence: [0, 1, 1, 2, 3]\n"
     ]
    }
   ],
   "source": [
    "def fibonacci(n):\n",
    "    if n == 0:\n",
    "        return 0\n",
    "    elif n == 1:\n",
    "        return 1\n",
    "    else:\n",
    "        return fibonacci(n-1) + fibonacci(n-2)\n",
    "\n",
    "fibonacci_sequence = [fibonacci(i) for i in range(5)]\n",
    "\n",
    "print(\"Fibonacci Sequence:\", fibonacci_sequence)"
   ]
  },
  {
   "cell_type": "code",
   "execution_count": 11,
   "metadata": {},
   "outputs": [
    {
     "name": "stdout",
     "output_type": "stream",
     "text": [
      "Transformed Numbers: [1, 4, 3, 16, 5, 36, 7, 64]\n"
     ]
    }
   ],
   "source": [
    "square_of_even = lambda x: x**2 if x % 2 == 0 else x\n",
    "\n",
    "numbers = [1, 2, 3, 4, 5, 6, 7, 8]\n",
    "\n",
    "result = [square_of_even(x) for x in numbers]\n",
    "\n",
    "print(\"Transformed Numbers:\", result)"
   ]
  }
 ],
 "metadata": {
  "kernelspec": {
   "display_name": "Python 3",
   "language": "python",
   "name": "python3"
  },
  "language_info": {
   "codemirror_mode": {
    "name": "ipython",
    "version": 3
   },
   "file_extension": ".py",
   "mimetype": "text/x-python",
   "name": "python",
   "nbconvert_exporter": "python",
   "pygments_lexer": "ipython3",
   "version": "3.13.0"
  }
 },
 "nbformat": 4,
 "nbformat_minor": 2
}
